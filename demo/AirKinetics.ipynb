{
 "cells": [
  {
   "cell_type": "code",
   "execution_count": null,
   "metadata": {},
   "outputs": [],
   "source": [
    "using Plots\n",
    "using PLAYA\n",
    "using Statistics\n",
    "using UnicodeFun # to_latex\n",
    "using DifferentialEquations\n",
    "using DiffEqSensitivity\n",
    "# using ODEInterfaceDiffEq # radau\n",
    "using Catalyst"
   ]
  },
  {
   "cell_type": "markdown",
   "metadata": {},
   "source": [
    "# Setup"
   ]
  },
  {
   "cell_type": "code",
   "execution_count": null,
   "metadata": {},
   "outputs": [],
   "source": [
    "# parse BOLOS output\n",
    "bolos_interpolations = parse_bolos_output(\"../assets/air-kinetics-bolos.dat\")"
   ]
  },
  {
   "cell_type": "code",
   "execution_count": null,
   "metadata": {},
   "outputs": [],
   "source": [
    "EN = 200. # Townsend\n",
    "Tgas = 300.\n",
    "Te = bolos_interpolations[\"Mean energy\"](EN) * 1.1604505e4  # Temperature of electrons in K\n",
    "dTion  = 2.0e0 / ( 3.0e0 * 1.3807e-16 ) * 1.6605e-24 * ( 1.0e-17 * EN )^2\n",
    "TionN  = Tgas + dTion * 14.0e0 * 8.0e19^2\n",
    "TionN2 = Tgas + dTion * 28.0e0 * 4.1e19^2\n",
    "TionN3 = Tgas + dTion * 42.0e0 * 6.1e19^2\n",
    "TionN4 = Tgas + dTion * 56.0e0 * 7.0e19^2\n",
    "TeffN  = ( TionN  + 0.5e0 * Tgas ) / ( 1.0e0 + 0.5e0 )\n",
    "TeffN2 = ( TionN2 + 1.0e0 * Tgas ) / ( 1.0e0 + 1.0e0 )\n",
    "TeffN3 = ( TionN3 + 1.5e0 * Tgas ) / ( 1.0e0 + 1.5e0 )\n",
    "TeffN4 = ( TionN4 + 2.0e0 * Tgas ) / ( 1.0e0 + 2.0e0 )\n",
    "Teff3Q = 46.501347e-27*((1.87e-4*(1.0e5/(273.0*1.38064e-23))*( 1.0e-21 * EN ))^2)/(3.0e0*1.38064e-23) + Tgas\n",
    "\n",
    "globals = Dict{Symbol, Any}([\n",
    "                :E => EN,\n",
    "                :Te => Te,\n",
    "                :Tgas => Tgas,\n",
    "                :dTion   => dTion,\n",
    "                :TionN   => TionN,\n",
    "                :TionN2  => TionN2,\n",
    "                :TionN3  => TionN3,\n",
    "                :TionN4  => TionN4,\n",
    "                :TeffN   => TeffN,\n",
    "                :TeffN2  => TeffN2,\n",
    "                :TeffN3  => TeffN3,\n",
    "                :TeffN4  => TeffN4,\n",
    "                :Teff3Q  => Teff3Q,\n",
    "               ])\n",
    "\n",
    "# create functions that will get evaluated to rates\n",
    "globals[:BOLOS] = (id, env) -> bolos_interpolations[id](env[:E])\n",
    "\n",
    "println(globals)"
   ]
  },
  {
   "cell_type": "code",
   "execution_count": null,
   "metadata": {},
   "outputs": [],
   "source": [
    "# replace stuff so it is Catalyst-compliant\n",
    "replacements = [\n",
    "                \"^+\" => to_latex(\"^+\"),\n",
    "                \"^-\" => to_latex(\"^-\"),\n",
    "                \"(\" => to_latex(\"\\\\llcorner\"),\n",
    "                \")\" => to_latex(\"\\\\lrcorner\"),\n",
    "                \"4.5eV\" => to_latex(\"4°5eV\"),\n",
    "                \"`\" => to_latex(\"\\\\tilde\"),\n",
    "                \"=>\" => \"-->\",\n",
    "    ]"
   ]
  },
  {
   "cell_type": "code",
   "execution_count": null,
   "metadata": {},
   "outputs": [],
   "source": [
    "# parse the reaction file\n",
    "(rs, ps) = parse_reactions(\"../assets/air-kinetics.reactions\", globals; to_replace=replacements)"
   ]
  },
  {
   "cell_type": "markdown",
   "metadata": {},
   "source": [
    "# Create the system of ODEs"
   ]
  },
  {
   "cell_type": "code",
   "execution_count": null,
   "metadata": {},
   "outputs": [],
   "source": [
    "# initial conditions\n",
    "n_gas = 2.5e19\n",
    "conc = Dict([\n",
    "        \"e\" => 1e12,\n",
    "        \"N2\" => 0.8*n_gas,\n",
    "        \"O2\" => 0.2*n_gas,\n",
    "        \"ANY_NEUTRAL\" => n_gas\n",
    "        ])\n",
    "u0 = [ get(conc, string(s), 0.) for s in species(rs) ]\n",
    "tspan = (0., 1e-4)\n",
    "\n",
    "odesys = convert(ODESystem, rs)\n",
    "\n",
    "# Keep electrons and neutrals fixed\n",
    "keep_fixed!(odesys, \"e\")\n",
    "keep_fixed!(odesys, \"ANY_NEUTRAL\")"
   ]
  },
  {
   "cell_type": "code",
   "execution_count": null,
   "metadata": {},
   "outputs": [],
   "source": [
    "prob = ODEProblem(odesys, u0, tspan, ps)\n",
    "\n",
    "print(\"Solving....\")\n",
    "sol = solve(prob, Rodas5(), reltol=1e-8, abstol=1e-8)"
   ]
  },
  {
   "cell_type": "code",
   "execution_count": null,
   "metadata": {},
   "outputs": [],
   "source": [
    "plot(sol, vars=(0, 22), yscale=:log10, ylims=[1,3e12])\n",
    "plot!(sol, vars=(0, 6))"
   ]
  },
  {
   "cell_type": "markdown",
   "metadata": {},
   "source": [
    "# Sensitivity analysis\n",
    "\n",
    "Based on [DifferentialEquations tutorial](https://diffeq.sciml.ai/stable/analysis/global_sensitivity/)"
   ]
  },
  {
   "cell_type": "code",
   "execution_count": null,
   "metadata": {},
   "outputs": [],
   "source": [
    "f1 = function (p)\n",
    "  prob1 = remake(prob;p=p)\n",
    "  sol = solve(prob1,Rodas5();\n",
    "              saveat=range(tspan[2]/10., stop=tspan[2], length=100),\n",
    "              reltol=1e-8,\n",
    "              abstol=1e-8,\n",
    "             )\n",
    "  mean(sol[6,:])/mean(sol[22,:])\n",
    "end\n",
    "\n",
    "bounds = [ [0.5*i, 1.5*i] for i in ps ]\n",
    "m = gsa(f1, Morris(total_num_trajectory=1000, num_trajectory=150), bounds)"
   ]
  },
  {
   "cell_type": "code",
   "execution_count": null,
   "metadata": {},
   "outputs": [],
   "source": [
    "# output most significant reactions\n",
    "inds = sortperm(m.means[1,:])\n",
    "for i in reverse(inds)[1:5]\n",
    "    r =  rs.eqs[i]\n",
    "    f = x-> join(map(string, x), \" + \")\n",
    "    println(f(r.substrates), \" => \", f(r.products), \":  μ = $(m.means[i]),  σ = $(m.variances[i])\")\n",
    "end"
   ]
  }
 ],
 "metadata": {
  "kernelspec": {
   "display_name": "Julia 1.5.2",
   "language": "julia",
   "name": "julia-1.5"
  },
  "language_info": {
   "file_extension": ".jl",
   "mimetype": "application/julia",
   "name": "julia",
   "version": "1.5.2"
  }
 },
 "nbformat": 4,
 "nbformat_minor": 4
}
